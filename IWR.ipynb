{
 "cells": [
  {
   "attachments": {},
   "cell_type": "markdown",
   "metadata": {},
   "source": [
    "# Isolated Word Recognition"
   ]
  },
  {
   "cell_type": "code",
   "execution_count": 2,
   "metadata": {},
   "outputs": [
    {
     "name": "stdout",
     "output_type": "stream",
     "text": [
      "dict_keys(['2_dev', '2_train', '3_dev', '3_train', '4_dev', '4_train', '5_dev', '5_train', 'z_dev', 'z_train'])\n"
     ]
    }
   ],
   "source": [
    "import numpy as np\n",
    "import pickle\n",
    "import os\n",
    "from DTW import DTW_distance\n",
    "\n",
    "# import data dictionary\n",
    "with open('Team7_data.txt','rb') as f:\n",
    "    Data = pickle.load(f)\n",
    "    f.close()\n",
    "\n",
    "print(Data.keys())"
   ]
  },
  {
   "cell_type": "code",
   "execution_count": 7,
   "metadata": {},
   "outputs": [
    {
     "name": "stdout",
     "output_type": "stream",
     "text": [
      "(42, 58) mk_2.wav\n",
      "(42, 64) mm_2.wav\n",
      "(42, 45) ms_2.wav\n",
      "(42, 52) mw_2.wav\n",
      "(42, 50) nc_2.wav\n",
      "(42, 25) ng_2.wav\n",
      "(42, 51) nh_2.wav\n",
      "(42, 53) pe_2.wav\n",
      "(42, 52) pk_2.wav\n",
      "(42, 41) pm_2.wav\n",
      "(42, 62) pp_2.wav\n",
      "(42, 77) ra_2.wav\n"
     ]
    }
   ],
   "source": [
    "for i in Data['2_dev']:\n",
    "    print(Data['2_dev'][i].shape, i)"
   ]
  },
  {
   "cell_type": "code",
   "execution_count": 2,
   "metadata": {},
   "outputs": [],
   "source": [
    "def IWR(s,targets):\n",
    "    \"\"\"\n",
    "    Args:\n",
    "        s:\n",
    "            dictionary of sample MFCC vectors\n",
    "        targets:\n",
    "            a dictionary of targets MFCC vectors\n",
    "    Return:\n",
    "        DTW distance scores and the closely related word\n",
    "    \"\"\"\n",
    "    Results = []\n",
    "    for s_tag in s:\n",
    "        cost = []\n",
    "        t_tags = list(targets.keys())\n",
    "        for t_tag in t_tags:\n",
    "            c = DTW_distance(s[s_tag],targets[t_tag])\n",
    "            cost.append(c)\n",
    "        \n",
    "        a = np.argmin(np.array(cost))\n",
    "        Results.append((s_tag,t_tags[a],round(cost[a],3)))\n",
    "    return Results"
   ]
  },
  {
   "cell_type": "code",
   "execution_count": 3,
   "metadata": {},
   "outputs": [
    {
     "data": {
      "text/plain": [
       "[('23a.wav', 'mk_2.wav', 18600.942),\n",
       " ('24a.wav', 'pm_2.wav', 28305.244),\n",
       " ('25a.wav', 'mm_2.wav', 48883.106),\n",
       " ('33a.wav', 'mk_2.wav', 22866.789),\n",
       " ('344a.wav', 'nc_2.wav', 16433.55),\n",
       " ('34a.wav', 'nc_2.wav', 22813.231),\n",
       " ('3zza.wav', 'pk_2.wav', 16916.612),\n",
       " ('42a.wav', 'pm_2.wav', 21655.142),\n",
       " ('43a.wav', 'ng_2.wav', 11135.665),\n",
       " ('455a.wav', 'ra_2.wav', 17378.086),\n",
       " ('4z4a.wav', 'ng_2.wav', 5492.121),\n",
       " ('4za.wav', 'mm_2.wav', 68865.449),\n",
       " ('52a.wav', 'ra_2.wav', 17526.36),\n",
       " ('545a.wav', 'ng_2.wav', 15995.489),\n",
       " ('54a.wav', 'ng_2.wav', 28722.858),\n",
       " ('55a.wav', 'pp_2.wav', 40896.63),\n",
       " ('z2a.wav', 'pm_2.wav', 14781.672),\n",
       " ('z3a.wav', 'ra_2.wav', 12012.908),\n",
       " ('z4a.wav', 'pk_2.wav', 27372.389),\n",
       " ('z4za.wav', 'pk_2.wav', 8881.726),\n",
       " ('z5a.wav', 'nc_2.wav', 20570.458)]"
      ]
     },
     "execution_count": 3,
     "metadata": {},
     "output_type": "execute_result"
    }
   ],
   "source": [
    "targets = Data['2_dev']\n",
    "IWR(samples,targets)"
   ]
  },
  {
   "cell_type": "code",
   "execution_count": 4,
   "metadata": {},
   "outputs": [
    {
     "data": {
      "text/plain": [
       "[('23a.wav', 'nc_3.wav', 12238.665),\n",
       " ('24a.wav', 'pm_3.wav', 36044.517),\n",
       " ('25a.wav', 'pm_3.wav', 75814.102),\n",
       " ('33a.wav', 'nc_3.wav', 21672.624),\n",
       " ('344a.wav', 'nc_3.wav', 34798.225),\n",
       " ('34a.wav', 'pm_3.wav', 35251.283),\n",
       " ('3zza.wav', 'nc_3.wav', 10104.251),\n",
       " ('42a.wav', 'nc_3.wav', 3732.057),\n",
       " ('43a.wav', 'pp_3.wav', 6270.923),\n",
       " ('455a.wav', 'pp_3.wav', 29093.823),\n",
       " ('4z4a.wav', 'pp_3.wav', 6221.857),\n",
       " ('4za.wav', 'pm_3.wav', 135920.564),\n",
       " ('52a.wav', 'pk_3.wav', 15980.235),\n",
       " ('545a.wav', 'pe_3.wav', 11751.638),\n",
       " ('54a.wav', 'ms_3.wav', 18072.72),\n",
       " ('55a.wav', 'nc_3.wav', 45330.065),\n",
       " ('z2a.wav', 'nc_3.wav', 10711.579),\n",
       " ('z3a.wav', 'nc_3.wav', 21882.311),\n",
       " ('z4a.wav', 'nc_3.wav', 44989.288),\n",
       " ('z4za.wav', 'nc_3.wav', 15954.042),\n",
       " ('z5a.wav', 'pm_3.wav', 37473.297)]"
      ]
     },
     "execution_count": 4,
     "metadata": {},
     "output_type": "execute_result"
    }
   ],
   "source": [
    "targets = Data['3_dev']\n",
    "IWR(samples,targets)"
   ]
  },
  {
   "cell_type": "code",
   "execution_count": 5,
   "metadata": {},
   "outputs": [
    {
     "data": {
      "text/plain": [
       "[('23a.wav', 'mm_4.wav', 13812.033),\n",
       " ('24a.wav', 'mm_4.wav', 35217.158),\n",
       " ('25a.wav', 'mm_4.wav', 82844.64),\n",
       " ('33a.wav', 'mm_4.wav', 17010.396),\n",
       " ('344a.wav', 'mm_4.wav', 44071.932),\n",
       " ('34a.wav', 'mm_4.wav', 48329.196),\n",
       " ('3zza.wav', 'mm_4.wav', 29284.506),\n",
       " ('42a.wav', 'mm_4.wav', 21583.608),\n",
       " ('43a.wav', 'nc_4.wav', 11319.694),\n",
       " ('455a.wav', 'pk_4.wav', 15090.047),\n",
       " ('4z4a.wav', 'nc_4.wav', 12953.926),\n",
       " ('4za.wav', 'mm_4.wav', 145041.361),\n",
       " ('52a.wav', 'nc_4.wav', 20016.326),\n",
       " ('545a.wav', 'nc_4.wav', 23656.474),\n",
       " ('54a.wav', 'pe_4.wav', 18447.615),\n",
       " ('55a.wav', 'mm_4.wav', 47420.522),\n",
       " ('z2a.wav', 'mm_4.wav', 13360.775),\n",
       " ('z3a.wav', 'pk_4.wav', 32270.838),\n",
       " ('z4a.wav', 'pk_4.wav', 52541.424),\n",
       " ('z4za.wav', 'mm_4.wav', 32099.439),\n",
       " ('z5a.wav', 'mm_4.wav', 47333.751)]"
      ]
     },
     "execution_count": 5,
     "metadata": {},
     "output_type": "execute_result"
    }
   ],
   "source": [
    "targets = Data['4_dev']\n",
    "IWR(samples,targets)"
   ]
  },
  {
   "cell_type": "code",
   "execution_count": 6,
   "metadata": {},
   "outputs": [
    {
     "data": {
      "text/plain": [
       "[('23a.wav', 'pm_5.wav', 21517.894),\n",
       " ('24a.wav', 'pm_5.wav', 60686.222),\n",
       " ('25a.wav', 'mm_5.wav', 32569.494),\n",
       " ('33a.wav', 'pm_5.wav', 31567.629),\n",
       " ('344a.wav', 'pk_5.wav', 54771.135),\n",
       " ('34a.wav', 'mm_5.wav', 58434.784),\n",
       " ('3zza.wav', 'pk_5.wav', 32517.211),\n",
       " ('42a.wav', 'pk_5.wav', 33728.057),\n",
       " ('43a.wav', 'pe_5.wav', 16271.154),\n",
       " ('455a.wav', 'pk_5.wav', 20807.993),\n",
       " ('4z4a.wav', 'nc_5.wav', 10836.601),\n",
       " ('4za.wav', 'mm_5.wav', 53793.253),\n",
       " ('52a.wav', 'pm_5.wav', 21209.921),\n",
       " ('545a.wav', 'pm_5.wav', 12464.259),\n",
       " ('54a.wav', 'nh_5.wav', 12007.445),\n",
       " ('55a.wav', 'pm_5.wav', 57215.662),\n",
       " ('z2a.wav', 'pm_5.wav', 34794.607),\n",
       " ('z3a.wav', 'pk_5.wav', 16067.542),\n",
       " ('z4a.wav', 'pk_5.wav', 54204.504),\n",
       " ('z4za.wav', 'pk_5.wav', 37434.159),\n",
       " ('z5a.wav', 'mm_5.wav', 67613.697)]"
      ]
     },
     "execution_count": 6,
     "metadata": {},
     "output_type": "execute_result"
    }
   ],
   "source": [
    "targets = Data['5_dev']\n",
    "IWR(samples,targets)"
   ]
  },
  {
   "cell_type": "code",
   "execution_count": 7,
   "metadata": {},
   "outputs": [
    {
     "data": {
      "text/plain": [
       "[('23a.wav', 'mk_z.wav', 7589.139),\n",
       " ('24a.wav', 'nc_z.wav', 22516.832),\n",
       " ('25a.wav', 'nc_z.wav', 44113.239),\n",
       " ('33a.wav', 'ng_z.wav', 11338.463),\n",
       " ('344a.wav', 'ra_z.wav', 32289.697),\n",
       " ('34a.wav', 'ra_z.wav', 20885.491),\n",
       " ('3zza.wav', 'pm_z.wav', 17271.97),\n",
       " ('42a.wav', 'pm_z.wav', 12192.457),\n",
       " ('43a.wav', 'nh_z.wav', 10945.715),\n",
       " ('455a.wav', 'pm_z.wav', 25208.805),\n",
       " ('4z4a.wav', 'ms_z.wav', 18933.719),\n",
       " ('4za.wav', 'mm_z.wav', 45079.532),\n",
       " ('52a.wav', 'nh_z.wav', 9529.568),\n",
       " ('545a.wav', 'mk_z.wav', 11128.322),\n",
       " ('54a.wav', 'nh_z.wav', 28676.018),\n",
       " ('55a.wav', 'ng_z.wav', 39014.584),\n",
       " ('z2a.wav', 'mk_z.wav', 17190.93),\n",
       " ('z3a.wav', 'pm_z.wav', 17784.063),\n",
       " ('z4a.wav', 'pk_z.wav', 29321.118),\n",
       " ('z4za.wav', 'pm_z.wav', 15823.007),\n",
       " ('z5a.wav', 'nc_z.wav', 30892.828)]"
      ]
     },
     "execution_count": 7,
     "metadata": {},
     "output_type": "execute_result"
    }
   ],
   "source": [
    "targets = Data['z_dev']\n",
    "IWR(samples,targets)"
   ]
  }
 ],
 "metadata": {
  "kernelspec": {
   "display_name": "Python 3",
   "language": "python",
   "name": "python3"
  },
  "language_info": {
   "codemirror_mode": {
    "name": "ipython",
    "version": 3
   },
   "file_extension": ".py",
   "mimetype": "text/x-python",
   "name": "python",
   "nbconvert_exporter": "python",
   "pygments_lexer": "ipython3",
   "version": "3.8.0"
  },
  "orig_nbformat": 4
 },
 "nbformat": 4,
 "nbformat_minor": 2
}
