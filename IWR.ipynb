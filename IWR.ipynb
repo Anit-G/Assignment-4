{
 "cells": [
  {
   "attachments": {},
   "cell_type": "markdown",
   "metadata": {},
   "source": [
    "#### Run the Vectorize.py file"
   ]
  },
  {
   "attachments": {},
   "cell_type": "markdown",
   "metadata": {},
   "source": [
    "# Isolated Word Recognition\n",
    "\n",
    "Use the Train sets to build a average template model and use the dev set as a testing set "
   ]
  },
  {
   "cell_type": "code",
   "execution_count": 1,
   "metadata": {},
   "outputs": [
    {
     "name": "stdout",
     "output_type": "stream",
     "text": [
      "dict_keys(['2_dev', '2_train', '3_dev', '3_train', '4_dev', '4_train', '5_dev', '5_train', 'z_dev', 'z_train'])\n"
     ]
    }
   ],
   "source": [
    "import numpy as np\n",
    "import pickle\n",
    "\n",
    "from DTW import DTW_distance,DTW_template_alignment,DTW_align\n",
    "\n",
    "# import data dictionary\n",
    "with open('Team7_data.txt','rb') as f:\n",
    "    Data = pickle.load(f)\n",
    "    f.close()\n",
    "\n",
    "print(Data.keys())"
   ]
  },
  {
   "attachments": {},
   "cell_type": "markdown",
   "metadata": {},
   "source": [
    "### Build Average Template Model\n",
    "\n",
    "These used as samples to measure DTW distance cost against"
   ]
  },
  {
   "cell_type": "code",
   "execution_count": 2,
   "metadata": {},
   "outputs": [
    {
     "name": "stdout",
     "output_type": "stream",
     "text": [
      "Number of Templates in 2_train: 39\n",
      "Index for master template: 5\n",
      "Name of master Template: bi_2.wav\n",
      "\n",
      "Number of Templates in 3_train: 39\n",
      "Index for master template: 13\n",
      "Name of master Template: ea_3.wav\n",
      "\n",
      "Number of Templates in 4_train: 39\n",
      "Index for master template: 22\n",
      "Name of master Template: ig_4.wav\n",
      "\n",
      "Number of Templates in 5_train: 39\n",
      "Index for master template: 1\n",
      "Name of master Template: ag_5.wav\n",
      "\n",
      "Number of Templates in z_train: 39\n",
      "Index for master template: 4\n",
      "Name of master Template: bh_z.wav\n",
      "\n",
      "Number of General Templates: 5\n",
      "Template Shapes:\n",
      "(42, 51)\n",
      "(42, 54)\n",
      "(42, 50)\n",
      "(42, 52)\n",
      "(42, 79)\n"
     ]
    }
   ],
   "source": [
    "Avg_template_model = []\n",
    "for name in ['2_train', '3_train', '4_train', '5_train', 'z_train']:\n",
    "    dx = Data[name]\n",
    "    wrd_temps = [dx[i] for i in dx]\n",
    "\n",
    "    # Choose Master Template\n",
    "    # t = np.argmin([i.shape[1] for i in wrd_temps])      # best for z and 5\n",
    "    t = np.argsort([i.shape[1] for i in wrd_temps])[len(wrd_temps)//2]  # best for 4\n",
    "    mstr_temp = wrd_temps[t]\n",
    "    avg_temp = DTW_template_alignment(mstr_temp,wrd_temps)\n",
    "    Avg_template_model.append(avg_temp)\n",
    "    # Debug\n",
    "    print(f'Number of Templates in {name}: {len(wrd_temps)}')\n",
    "    print(f\"Index for master template: {t}\")\n",
    "    print(f\"Name of master Template: {list(dx.keys())[t]}\\n\")\n",
    "\n",
    "\n",
    "print(f\"Number of General Templates: {len(Avg_template_model)}\")\n",
    "print(\"Template Shapes:\")\n",
    "for t in Avg_template_model:\n",
    "    print(t.shape)"
   ]
  },
  {
   "cell_type": "code",
   "execution_count": 3,
   "metadata": {},
   "outputs": [],
   "source": [
    "def IWR(avg_model,targets,ytrue):\n",
    "    \"\"\"\n",
    "\n",
    "    For each target perform DTW with all templates inside avg_model\n",
    "    Args:\n",
    "        avg_model:\n",
    "                List of general templates of words\n",
    "        targets:\n",
    "            a dictionary of targets MFCC vectors\n",
    "    Return:\n",
    "        DTW distance scores and the closely related word\n",
    "    \"\"\"\n",
    "\n",
    "    Results = []\n",
    "    acc = 0\n",
    "    # t_tags = list(targets.keys())\n",
    "    s_tags = ['2','3','4','5','z']\n",
    "    for t_tag in targets:\n",
    "        cost = []\n",
    "        for m, temp in zip(s_tags,avg_model):\n",
    "            # Measure distance cost of target against template\n",
    "            c = DTW_distance(temp,targets[t_tag])\n",
    "            cost.append(c)\n",
    "        # Get the Closest Match\n",
    "        a = np.argmin(np.array(cost))\n",
    "        #Update Results:\n",
    "        Results.append((t_tag,s_tags[a],round(cost[a],3)))\n",
    "        if s_tags[a]==ytrue:\n",
    "            acc+=1\n",
    "    return Results,round(acc/len(Results),3)"
   ]
  },
  {
   "cell_type": "code",
   "execution_count": 4,
   "metadata": {},
   "outputs": [
    {
     "name": "stdout",
     "output_type": "stream",
     "text": [
      "Model Accuracy: 0.167\n",
      "Results:\n",
      "('mk_2.wav', '4', 48382694.004)\n",
      "('mm_2.wav', '4', 24194766.948)\n",
      "('ms_2.wav', '4', 96384802.112)\n",
      "('mw_2.wav', 'z', 776106509.513)\n",
      "('nc_2.wav', 'z', 19346086.467)\n",
      "('ng_2.wav', '4', 10688565.16)\n",
      "('nh_2.wav', '2', 25355878.797)\n",
      "('pe_2.wav', '4', 44389906.964)\n",
      "('pk_2.wav', '3', 9497080.039)\n",
      "('pm_2.wav', '4', 20268396.731)\n",
      "('pp_2.wav', '3', 15984120.524)\n",
      "('ra_2.wav', '2', 66064533.244)\n"
     ]
    }
   ],
   "source": [
    "targets = Data['2_dev']\n",
    "R,a = IWR(Avg_template_model,targets,'2')\n",
    "print(f\"Model Accuracy: {a}\")\n",
    "print(f'Results:')\n",
    "for i in R:\n",
    "    print(i)"
   ]
  },
  {
   "cell_type": "code",
   "execution_count": 5,
   "metadata": {},
   "outputs": [
    {
     "name": "stdout",
     "output_type": "stream",
     "text": [
      "Model Accuracy: 0.167\n",
      "Results:\n",
      "('mk_3.wav', 'z', 19277896.658)\n",
      "('mm_3.wav', '3', 6559347.777)\n",
      "('ms_3.wav', '4', 24981263.798)\n",
      "('mw_3.wav', 'z', 115532047.692)\n",
      "('nc_3.wav', 'z', 10521501.327)\n",
      "('ng_3.wav', 'z', 14107841.248)\n",
      "('nh_3.wav', '2', 25067483.44)\n",
      "('pe_3.wav', '2', 30539103.539)\n",
      "('pk_3.wav', '3', 10991219.817)\n",
      "('pm_3.wav', '4', 20296586.6)\n",
      "('pp_3.wav', '4', 12355005.365)\n",
      "('ra_3.wav', 'z', 10778392.409)\n"
     ]
    }
   ],
   "source": [
    "targets = Data['3_dev']\n",
    "R,a = IWR(Avg_template_model,targets,'3')\n",
    "print(f\"Model Accuracy: {a}\")\n",
    "print(f'Results:')\n",
    "for i in R:\n",
    "    print(i)"
   ]
  },
  {
   "cell_type": "code",
   "execution_count": 6,
   "metadata": {},
   "outputs": [
    {
     "name": "stdout",
     "output_type": "stream",
     "text": [
      "Model Accuracy: 0.75\n",
      "Results:\n",
      "('mk_4.wav', 'z', 220607882.581)\n",
      "('mm_4.wav', '4', 25815619.519)\n",
      "('ms_4.wav', '4', 62649251.992)\n",
      "('mw_4.wav', '4', 52829514.175)\n",
      "('nc_4.wav', '4', 16883926.997)\n",
      "('ng_4.wav', '5', 6685985.862)\n",
      "('nh_4.wav', '4', 31297391.311)\n",
      "('pe_4.wav', 'z', 22733890.756)\n",
      "('pk_4.wav', '4', 16006387.842)\n",
      "('pm_4.wav', '4', 10180847.668)\n",
      "('pp_4.wav', '4', 12111203.574)\n",
      "('ra_4.wav', '4', 35095431.977)\n"
     ]
    }
   ],
   "source": [
    "targets = Data['4_dev']\n",
    "R,a = IWR(Avg_template_model,targets,'4')\n",
    "print(f\"Model Accuracy: {a}\")\n",
    "print(f'Results:')\n",
    "for i in R:\n",
    "    print(i)"
   ]
  },
  {
   "cell_type": "code",
   "execution_count": 7,
   "metadata": {},
   "outputs": [
    {
     "name": "stdout",
     "output_type": "stream",
     "text": [
      "Model Accuracy: 0.083\n",
      "Results:\n",
      "('mk_5.wav', 'z', 170585743.482)\n",
      "('mm_5.wav', '4', 16612379.046)\n",
      "('ms_5.wav', 'z', 503394462.545)\n",
      "('mw_5.wav', 'z', 207719851.681)\n",
      "('nc_5.wav', '4', 12195236.414)\n",
      "('ng_5.wav', '5', 9482565.617)\n",
      "('nh_5.wav', '4', 31317882.176)\n",
      "('pe_5.wav', '4', 4953265.692)\n",
      "('pk_5.wav', '3', 8851328.981)\n",
      "('pm_5.wav', '4', 46022881.564)\n",
      "('pp_5.wav', '4', 14749394.58)\n",
      "('ra_5.wav', '4', 14961327.127)\n"
     ]
    }
   ],
   "source": [
    "targets = Data['5_dev']\n",
    "R,a = IWR(Avg_template_model,targets,'5')\n",
    "print(f\"Model Accuracy: {a}\")\n",
    "print(f'Results:')\n",
    "for i in R:\n",
    "    print(i)"
   ]
  },
  {
   "cell_type": "code",
   "execution_count": 8,
   "metadata": {},
   "outputs": [
    {
     "name": "stdout",
     "output_type": "stream",
     "text": [
      "Model Accuracy: 0.583\n",
      "Results:\n",
      "('mk_z.wav', 'z', 59560592.883)\n",
      "('mm_z.wav', '4', 41457712.629)\n",
      "('ms_z.wav', 'z', 65420906.703)\n",
      "('mw_z.wav', 'z', 145492456.82)\n",
      "('nc_z.wav', '2', 54950830.782)\n",
      "('ng_z.wav', 'z', 11497222.056)\n",
      "('nh_z.wav', '2', 45376746.856)\n",
      "('pe_z.wav', 'z', 55201160.731)\n",
      "('pk_z.wav', 'z', 11682309.655)\n",
      "('pm_z.wav', 'z', 10125173.827)\n",
      "('pp_z.wav', '4', 25907022.406)\n",
      "('ra_z.wav', '4', 17568233.364)\n"
     ]
    }
   ],
   "source": [
    "targets = Data['z_dev']\n",
    "R,a = IWR(Avg_template_model,targets,'z')\n",
    "print(f\"Model Accuracy: {a}\")\n",
    "print(f'Results:')\n",
    "for i in R:\n",
    "    print(i)"
   ]
  },
  {
   "cell_type": "code",
   "execution_count": null,
   "metadata": {},
   "outputs": [],
   "source": []
  }
 ],
 "metadata": {
  "kernelspec": {
   "display_name": "Python 3",
   "language": "python",
   "name": "python3"
  },
  "language_info": {
   "codemirror_mode": {
    "name": "ipython",
    "version": 3
   },
   "file_extension": ".py",
   "mimetype": "text/x-python",
   "name": "python",
   "nbconvert_exporter": "python",
   "pygments_lexer": "ipython3",
   "version": "3.8.0"
  },
  "orig_nbformat": 4
 },
 "nbformat": 4,
 "nbformat_minor": 2
}
